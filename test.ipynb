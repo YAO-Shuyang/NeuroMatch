{
 "cells": [
  {
   "cell_type": "code",
   "execution_count": 1,
   "metadata": {},
   "outputs": [],
   "source": [
    "from neuromatch.read import read_all_to_all_indexes, read_all_to_all_psame\n",
    "import time\n",
    "import sys\n",
    "from neuromatch.variables import AllToAll, IndexMap\n",
    "from neuromatch.read import read_index_map\n",
    "\n",
    "\n",
    "a = read_all_to_all_indexes(r\"E:\\Data\\Cross_maze\\10227\\Super Long-term Maze 1\\Cell_reg\\modeled_data_struct.mat\")\n",
    "b = AllToAll(a)\n",
    "b[0, 1, 1]"
   ]
  },
  {
   "cell_type": "code",
   "execution_count": 3,
   "metadata": {},
   "outputs": [
    {
     "name": "stdout",
     "output_type": "stream",
     "text": [
      "[[  1   2   3 ...   0   0   0]\n",
      " [  0   0   0 ...   0   0   0]\n",
      " [151   0 122 ...   0   0   0]\n",
      " ...\n",
      " [  0 104 175 ...   0   0   0]\n",
      " [  0 130   0 ...   0   0   0]\n",
      " [  0  89 182 ... 589 590   0]]\n",
      "1\n",
      "[[295 166 256 ...   0   0   0]\n",
      " [210 285 401 ... 597   0   0]\n",
      " [196 602  76 ...   0   0   0]\n",
      " ...\n",
      " [390 452 210 ...   0   0   0]\n",
      " [370 306 102 ...   0   0   0]\n",
      " [322 241  97 ...   0   0   0]]\n",
      "(2588,)\n",
      "[[295 166 256 ...   0   0   2]\n",
      " [210 285 401 ...   0   0   2]\n",
      " [196 602  76 ...   0   0   1]\n",
      " ...\n",
      " [390 452 210 ...   0   0   2]\n",
      " [370 306 102 ...   0   0   3]\n",
      " [322 241  97 ...   0   0   3]]\n",
      "[[295 166 256 ...   0   0   0]\n",
      " [210 285 401 ... 597   0   0]\n",
      " [196 602  76 ...   0   0   0]\n",
      " ...\n",
      " [390 452 210 ...   0   0   0]\n",
      " [370 306 102 ...   0   0   0]\n",
      " [322 241  97 ...   0   0   0]]\n",
      "[[295 166 256 ...   0   0   0]\n",
      " [210 285 401 ... 597   0   0]\n",
      " [196 602  76 ...   0   0   0]\n",
      " ...\n",
      " [370 306 102 ...   0   0   0]\n",
      " [322 241  97 ...   0   0   0]\n",
      " [  2   3   1 ...   1   1   3]]\n",
      "[[295 166 256 ...   0   0   0]\n",
      " [210 285 401 ... 597   0   0]\n",
      " [196 602  76 ...   0   0   0]\n",
      " ...\n",
      " [390 452 210 ...   0   0   0]\n",
      " [370 306 102 ...   0   0   0]\n",
      " [322 241  97 ...   0   0   0]]\n"
     ]
    }
   ],
   "source": [
    "from neuromatch.read import read_all_to_all_indexes, read_all_to_all_psame\n",
    "import time\n",
    "import sys\n",
    "import numpy as np\n",
    "from neuromatch.variables import AllToAll, IndexMap\n",
    "from neuromatch.read import read_index_map\n",
    "\n",
    "\n",
    "c = read_index_map(r\"E:\\Data\\Cross_maze\\10227\\Super Long-term Maze 1\\Cell_reg\\cellRegistered.mat\")\n",
    "d = IndexMap(c)\n",
    "print(d)\n",
    "print(d[0, 0])\n",
    "d.sort()\n",
    "print(d)\n",
    "print(d.count_nonzero().shape)\n",
    "print(d.add_col(np.random.randint(1, 4, size=[26,1])))\n",
    "print(d.remove_col(-1))\n"
   ]
  }
 ],
 "metadata": {
  "kernelspec": {
   "display_name": "maze11",
   "language": "python",
   "name": "python3"
  },
  "language_info": {
   "codemirror_mode": {
    "name": "ipython",
    "version": 3
   },
   "file_extension": ".py",
   "mimetype": "text/x-python",
   "name": "python",
   "nbconvert_exporter": "python",
   "pygments_lexer": "ipython3",
   "version": "3.10.11"
  }
 },
 "nbformat": 4,
 "nbformat_minor": 2
}
